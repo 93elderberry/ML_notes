{
 "cells": [
  {
   "cell_type": "code",
   "execution_count": 1,
   "id": "bd954c6c",
   "metadata": {},
   "outputs": [],
   "source": [
    "import numpy as np\n",
    "import matplotlib.pyplot as plt\n",
    "import time\n",
    "\n",
    "from tensorflow.keras.datasets import mnist\n",
    "import tensorflow.keras.backend as K\n",
    "import tensorflow as tf\n",
    "from tensorflow.keras.layers import Dense, Flatten, Reshape, Input, BatchNormalization, Dropout\n",
    "from tensorflow.keras.layers import Conv2D, Conv2DTranspose, LeakyReLU\n"
   ]
  },
  {
   "cell_type": "code",
   "execution_count": 2,
   "id": "7b416876",
   "metadata": {},
   "outputs": [],
   "source": [
    "(x_train, y_train), (x_test, y_test) = mnist.load_data()\n",
    "\n",
    "x_train = x_train[y_train == 7]\n",
    "y_train = y_train[y_train == 7]\n",
    "  "
   ]
  },
  {
   "cell_type": "code",
   "execution_count": 3,
   "id": "dc50ddd7",
   "metadata": {},
   "outputs": [
    {
     "name": "stdout",
     "output_type": "stream",
     "text": [
      "(6200, 28, 28) (6200,)\n"
     ]
    }
   ],
   "source": [
    "BUFFER_SIZE = x_train.shape[0]\n",
    "BATCH_SIZE = 100\n",
    "\n",
    "BUFFER_SIZE = BUFFER_SIZE // BATCH_SIZE * BATCH_SIZE\n",
    "x_train = x_train[:BUFFER_SIZE]\n",
    "y_train = y_train[:BUFFER_SIZE]\n",
    "print(x_train.shape, y_train.shape)"
   ]
  },
  {
   "cell_type": "code",
   "execution_count": 4,
   "id": "2103c909",
   "metadata": {},
   "outputs": [],
   "source": [
    "# стандартизация входных данных\n",
    "x_train = x_train / 255\n",
    "x_test = x_test / 255\n",
    "\n",
    "x_train = np.reshape(x_train, (len(x_train), 28, 28, 1))\n",
    "x_test = np.reshape(x_test, (len(x_test), 28, 28, 1))\n",
    "\n",
    "train_dataset = tf.data.Dataset.from_tensor_slices(x_train).shuffle(BUFFER_SIZE).batch(BATCH_SIZE)"
   ]
  },
  {
   "cell_type": "code",
   "execution_count": 5,
   "id": "95e39599",
   "metadata": {},
   "outputs": [],
   "source": [
    "# формирование сетей\n",
    "hidden_dim = 2\n",
    "\n",
    "\n",
    "def dropout_and_batch():\n",
    "  return Dropout(0.3)(BatchNormalization())\n",
    "\n",
    "\n",
    "# генератор\n",
    "generator = tf.keras.Sequential([\n",
    "  Dense(7 * 7 * 256, activation='relu', input_shape=(hidden_dim,)),\n",
    "  BatchNormalization(),\n",
    "  Reshape((7, 7, 256)),\n",
    "  Conv2DTranspose(128, (5, 5), strides=(1, 1), padding='same', activation='relu'),\n",
    "  BatchNormalization(),\n",
    "  Conv2DTranspose(64, (5, 5), strides=(2, 2), padding='same', activation='relu'),\n",
    "  BatchNormalization(),\n",
    "  Conv2DTranspose(1, (5, 5), strides=(2, 2), padding='same', activation='sigmoid'),\n",
    "])\n",
    "\n",
    "# дискриминатор\n",
    "discriminator = tf.keras.Sequential()\n",
    "discriminator.add(Conv2D(64, (5, 5), strides=(2, 2), padding='same', input_shape=[28, 28, 1]))\n",
    "discriminator.add(LeakyReLU())\n",
    "discriminator.add(Dropout(0.3))\n",
    "\n",
    "discriminator.add(Conv2D(128, (5, 5), strides=(2, 2), padding='same'))\n",
    "discriminator.add(LeakyReLU())\n",
    "discriminator.add(Dropout(0.3))\n",
    "\n",
    "discriminator.add(Flatten())\n",
    "discriminator.add(Dense(1))"
   ]
  },
  {
   "cell_type": "code",
   "execution_count": 6,
   "id": "2c85555c",
   "metadata": {},
   "outputs": [],
   "source": [
    "# потери\n",
    "cross_entropy = tf.keras.losses.BinaryCrossentropy(from_logits=True)\n",
    "\n",
    "\n",
    "def generator_loss(fake_output):\n",
    "  loss = cross_entropy(tf.ones_like(fake_output), fake_output)\n",
    "  return loss\n",
    "\n",
    "\n",
    "def discriminator_loss(real_output, fake_output):\n",
    "  real_loss = cross_entropy(tf.ones_like(real_output), real_output)\n",
    "  fake_loss = cross_entropy(tf.zeros_like(fake_output), fake_output)\n",
    "  total_loss = real_loss + fake_loss\n",
    "  return total_loss\n",
    "\n",
    "\n",
    "generator_optimizer = tf.keras.optimizers.Adam(1e-4)\n",
    "discriminator_optimizer = tf.keras.optimizers.Adam(1e-4)"
   ]
  },
  {
   "cell_type": "code",
   "execution_count": 7,
   "id": "6cbc918f",
   "metadata": {},
   "outputs": [],
   "source": [
    "# обучение\n",
    "tf.function\n",
    "def train_step(images):\n",
    "  noise = tf.random.normal([BATCH_SIZE, hidden_dim])\n",
    "\n",
    "  with tf.GradientTape() as gen_tape, tf.GradientTape() as disc_tape:\n",
    "    generated_images = generator(noise, training=True)\n",
    "\n",
    "    real_output = discriminator(images, training=True)\n",
    "    fake_output = discriminator(generated_images, training=True)\n",
    "\n",
    "    gen_loss = generator_loss(fake_output)\n",
    "    disc_loss = discriminator_loss(real_output, fake_output)\n",
    "\n",
    "  gradients_of_generator = gen_tape.gradient(gen_loss, generator.trainable_variables)\n",
    "  gradients_of_discriminator = disc_tape.gradient(disc_loss, discriminator.trainable_variables)\n",
    "\n",
    "  generator_optimizer.apply_gradients(zip(gradients_of_generator, generator.trainable_variables))\n",
    "  discriminator_optimizer.apply_gradients(zip(gradients_of_discriminator, discriminator.trainable_variables))\n",
    "\n",
    "  return gen_loss, disc_loss\n",
    "\n",
    "\n",
    "def train(dataset, epochs):\n",
    "  history = []\n",
    "  MAX_PRINT_LABEL = 10\n",
    "  th = BUFFER_SIZE // (BATCH_SIZE * MAX_PRINT_LABEL)\n",
    "\n",
    "  for epoch in range(1, epochs + 1):\n",
    "    print(f'{epoch}/{EPOCHS}: ', end='')\n",
    "\n",
    "    start = time.time()\n",
    "    n = 0\n",
    "\n",
    "    gen_loss_epoch = 0\n",
    "    for image_batch in dataset:\n",
    "      gen_loss, disc_loss = train_step(image_batch)\n",
    "      gen_loss_epoch += K.mean(gen_loss)\n",
    "      if (n % th == 0): print('=', end='')\n",
    "      n += 1\n",
    "\n",
    "    history += [gen_loss_epoch / n]\n",
    "    print(': ' + str(history[-1]))\n",
    "    print('Время эпохи {} составляет {} секунд'.format(epoch, time.time() - start))\n",
    "\n",
    "  return history"
   ]
  },
  {
   "cell_type": "code",
   "execution_count": 8,
   "id": "7ff2ab6f",
   "metadata": {},
   "outputs": [
    {
     "name": "stdout",
     "output_type": "stream",
     "text": [
      "1/20: ===========: tf.Tensor(1.5478692, shape=(), dtype=float32)\n",
      "Время эпохи 1 составляет 46.37454605102539 секунд\n",
      "2/20: ===========: tf.Tensor(2.5444596, shape=(), dtype=float32)\n",
      "Время эпохи 2 составляет 45.54433870315552 секунд\n",
      "3/20: ===========: tf.Tensor(3.3251023, shape=(), dtype=float32)\n",
      "Время эпохи 3 составляет 45.73557662963867 секунд\n",
      "4/20: ===========: tf.Tensor(3.6328585, shape=(), dtype=float32)\n",
      "Время эпохи 4 составляет 45.62516760826111 секунд\n",
      "5/20: ===========: tf.Tensor(4.0024476, shape=(), dtype=float32)\n",
      "Время эпохи 5 составляет 46.05847907066345 секунд\n",
      "6/20: ===========: tf.Tensor(3.678446, shape=(), dtype=float32)\n",
      "Время эпохи 6 составляет 45.56643605232239 секунд\n",
      "7/20: ===========: tf.Tensor(1.8842386, shape=(), dtype=float32)\n",
      "Время эпохи 7 составляет 46.31510806083679 секунд\n",
      "8/20: ===========: tf.Tensor(1.7797725, shape=(), dtype=float32)\n",
      "Время эпохи 8 составляет 45.402724504470825 секунд\n",
      "9/20: ===========: tf.Tensor(1.6504525, shape=(), dtype=float32)\n",
      "Время эпохи 9 составляет 45.522035121917725 секунд\n",
      "10/20: ===========: tf.Tensor(1.4732695, shape=(), dtype=float32)\n",
      "Время эпохи 10 составляет 45.689677238464355 секунд\n",
      "11/20: ===========: tf.Tensor(1.3999178, shape=(), dtype=float32)\n",
      "Время эпохи 11 составляет 45.55233883857727 секунд\n",
      "12/20: ===========: tf.Tensor(1.4535608, shape=(), dtype=float32)\n",
      "Время эпохи 12 составляет 45.430007219314575 секунд\n",
      "13/20: ===========: tf.Tensor(1.3743261, shape=(), dtype=float32)\n",
      "Время эпохи 13 составляет 45.49153256416321 секунд\n",
      "14/20: ===========: tf.Tensor(1.1989981, shape=(), dtype=float32)\n",
      "Время эпохи 14 составляет 45.4996874332428 секунд\n",
      "15/20: ===========: tf.Tensor(1.3388382, shape=(), dtype=float32)\n",
      "Время эпохи 15 составляет 45.23796582221985 секунд\n",
      "16/20: ===========: tf.Tensor(1.0435971, shape=(), dtype=float32)\n",
      "Время эпохи 16 составляет 45.58544397354126 секунд\n",
      "17/20: ===========: tf.Tensor(1.2068211, shape=(), dtype=float32)\n",
      "Время эпохи 17 составляет 45.386088848114014 секунд\n",
      "18/20: ===========: tf.Tensor(1.0018455, shape=(), dtype=float32)\n",
      "Время эпохи 18 составляет 45.59426999092102 секунд\n",
      "19/20: ===========: tf.Tensor(1.0055436, shape=(), dtype=float32)\n",
      "Время эпохи 19 составляет 45.45764088630676 секунд\n",
      "20/20: ===========: tf.Tensor(0.8446878, shape=(), dtype=float32)\n",
      "Время эпохи 20 составляет 46.044968605041504 секунд\n"
     ]
    },
    {
     "data": {
      "image/png": "[encoded data removed]",
      "text/plain": [
       "<Figure size 432x288 with 1 Axes>"
      ]
     },
     "metadata": {
      "needs_background": "light"
     },
     "output_type": "display_data"
    }
   ],
   "source": [
    "# запуск процесса обучения\n",
    "EPOCHS = 20\n",
    "history = train(train_dataset, EPOCHS)\n",
    "\n",
    "plt.plot(history)\n",
    "plt.grid(True)\n",
    "plt.show()"
   ]
  },
  {
   "cell_type": "code",
   "execution_count": 9,
   "id": "4c2385d8",
   "metadata": {},
   "outputs": [
    {
     "name": "stdout",
     "output_type": "stream",
     "text": [
      "1/1 [==============================] - 1s 773ms/step\n",
      "1/1 [==============================] - 0s 24ms/step\n",
      "1/1 [==============================] - 0s 25ms/step\n",
      "1/1 [==============================] - 0s 25ms/step\n",
      "1/1 [==============================] - 0s 25ms/step\n",
      "1/1 [==============================] - 0s 25ms/step\n",
      "1/1 [==============================] - 0s 24ms/step\n",
      "1/1 [==============================] - 0s 25ms/step\n",
      "1/1 [==============================] - 0s 25ms/step\n",
      "1/1 [==============================] - 0s 24ms/step\n",
      "1/1 [==============================] - 0s 24ms/step\n",
      "1/1 [==============================] - 0s 25ms/step\n",
      "1/1 [==============================] - 0s 25ms/step\n",
      "1/1 [==============================] - 0s 25ms/step\n",
      "1/1 [==============================] - 0s 25ms/step\n",
      "1/1 [==============================] - 0s 25ms/step\n",
      "1/1 [==============================] - 0s 25ms/step\n",
      "1/1 [==============================] - 0s 25ms/step\n",
      "1/1 [==============================] - 0s 25ms/step\n",
      "1/1 [==============================] - 0s 24ms/step\n",
      "1/1 [==============================] - 0s 24ms/step\n",
      "1/1 [==============================] - 0s 25ms/step\n",
      "1/1 [==============================] - 0s 24ms/step\n",
      "1/1 [==============================] - 0s 25ms/step\n",
      "1/1 [==============================] - 0s 25ms/step\n"
     ]
    },
    {
     "data": {
      "image/png": "[encoded data removed]",
      "text/plain": [
       "<Figure size 360x360 with 25 Axes>"
      ]
     },
     "metadata": {
      "needs_background": "light"
     },
     "output_type": "display_data"
    }
   ],
   "source": [
    "# отображение результатов генерации\n",
    "n = 2\n",
    "total = 2 * n + 1\n",
    "\n",
    "plt.figure(figsize=(total, total))\n",
    "\n",
    "num = 1\n",
    "for i in range(-n, n + 1):\n",
    "  for j in range(-n, n + 1):\n",
    "    ax = plt.subplot(total, total, num)\n",
    "    num += 1\n",
    "    img = generator.predict(np.expand_dims([0.5 * i / n, 0.5 * j / n], axis=0))\n",
    "    plt.imshow(img[0, :, :, 0], cmap='gray')\n",
    "    ax.get_xaxis().set_visible(False)\n",
    "    ax.get_yaxis().set_visible(False)\n",
    "\n",
    "plt.show()\n"
   ]
  },
  {
   "cell_type": "code",
   "execution_count": null,
   "id": "5ffb3691",
   "metadata": {},
   "outputs": [],
   "source": []
  }
 ],
 "metadata": {
  "kernelspec": {
   "display_name": "Python 3 (ipykernel)",
   "language": "python",
   "name": "python3"
  },
  "language_info": {
   "codemirror_mode": {
    "name": "ipython",
    "version": 3
   },
   "file_extension": ".py",
   "mimetype": "text/x-python",
   "name": "python",
   "nbconvert_exporter": "python",
   "pygments_lexer": "ipython3",
   "version": "3.9.12"
  }
 },
 "nbformat": 4,
 "nbformat_minor": 5
}
