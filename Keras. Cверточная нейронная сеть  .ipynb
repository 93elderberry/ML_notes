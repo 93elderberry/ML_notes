{
 "cells": [
  {
   "cell_type": "markdown",
   "id": "704e7f9e",
   "metadata": {},
   "source": [
    "# Keras. Cверточная нейронная сеть  "
   ]
  },
  {
   "cell_type": "code",
   "execution_count": 1,
   "id": "83caae03",
   "metadata": {},
   "outputs": [],
   "source": [
    "import numpy as np\n",
    "import matplotlib.pyplot as plt\n",
    "from tensorflow.keras.datasets import mnist         # библиотека базы выборок Mnist\n",
    "from tensorflow import keras\n",
    "from tensorflow.keras.layers import Dense, Flatten, Dropout, Conv2D, MaxPooling2D"
   ]
  },
  {
   "cell_type": "code",
   "execution_count": 2,
   "id": "fcad3cb0",
   "metadata": {},
   "outputs": [],
   "source": [
    "(x_train, y_train), (x_test, y_test) = mnist.load_data()"
   ]
  },
  {
   "cell_type": "code",
   "execution_count": 3,
   "id": "38bcb0ce",
   "metadata": {},
   "outputs": [
    {
     "name": "stdout",
     "output_type": "stream",
     "text": [
      "(60000, 28, 28, 1)\n"
     ]
    }
   ],
   "source": [
    "# стандартизация входных данных\n",
    "x_train = x_train / 255\n",
    "x_test = x_test / 255\n",
    "\n",
    "y_train_cat = keras.utils.to_categorical(y_train, 10)\n",
    "y_test_cat = keras.utils.to_categorical(y_test, 10)\n",
    "\n",
    "x_train = np.expand_dims(x_train, axis=3)\n",
    "x_test = np.expand_dims(x_test, axis=3)\n",
    "\n",
    "print( x_train.shape )"
   ]
  },
  {
   "cell_type": "code",
   "execution_count": 4,
   "id": "b5605620",
   "metadata": {},
   "outputs": [],
   "source": [
    "#Conv2D- свертка (32 - filters , (3,3) - размеры ядер(каналов), \n",
    "#padding='same' - маска увеличивающая изображение, чтобы итоговое изобр. было как исходное,\n",
    "#activation='relu',\n",
    "#input_shape=(28, 28, 1)) - формат исходного изображения\n",
    "model = keras.Sequential([\n",
    "    Conv2D(32, (3,3), padding='same', activation='relu', input_shape=(28, 28, 1)),\n",
    "    MaxPooling2D((2, 2), strides=2),#увеличиваем масштаб полученных признаков. (2, 2) - размер окна, strides - шаг сканирования \n",
    "    Conv2D(64, (3,3), padding='same', activation='relu'),\n",
    "    MaxPooling2D((2, 2), strides=2),\n",
    "    Flatten(),#вытягивание в один вектор, для подачи в полносвязную сеть\n",
    "    Dense(128, activation='relu'),\n",
    "    Dense(10,  activation='softmax')\n",
    "])\n",
    "\n",
    "# print(model.summary())      # вывод структуры НС в консоль"
   ]
  },
  {
   "cell_type": "code",
   "execution_count": 5,
   "id": "32785f6f",
   "metadata": {},
   "outputs": [
    {
     "name": "stdout",
     "output_type": "stream",
     "text": [
      "Epoch 1/5\n",
      "1500/1500 [==============================] - 37s 23ms/step - loss: 0.1430 - accuracy: 0.9555 - val_loss: 0.0578 - val_accuracy: 0.9827\n",
      "Epoch 2/5\n",
      "1500/1500 [==============================] - 35s 23ms/step - loss: 0.0479 - accuracy: 0.9848 - val_loss: 0.0365 - val_accuracy: 0.9887\n",
      "Epoch 3/5\n",
      "1500/1500 [==============================] - 34s 23ms/step - loss: 0.0319 - accuracy: 0.9901 - val_loss: 0.0390 - val_accuracy: 0.9882\n",
      "Epoch 4/5\n",
      "1500/1500 [==============================] - 33s 22ms/step - loss: 0.0231 - accuracy: 0.9930 - val_loss: 0.0381 - val_accuracy: 0.9877\n",
      "Epoch 5/5\n",
      "1500/1500 [==============================] - 34s 23ms/step - loss: 0.0174 - accuracy: 0.9944 - val_loss: 0.0376 - val_accuracy: 0.9897\n",
      "313/313 [==============================] - 2s 6ms/step - loss: 0.0324 - accuracy: 0.9905\n"
     ]
    },
    {
     "data": {
      "text/plain": [
       "[0.032415326684713364, 0.9904999732971191]"
      ]
     },
     "execution_count": 5,
     "metadata": {},
     "output_type": "execute_result"
    }
   ],
   "source": [
    "model.compile(optimizer='adam',\n",
    "             loss='categorical_crossentropy',\n",
    "             metrics=['accuracy'])\n",
    "\n",
    "\n",
    "his = model.fit(x_train, y_train_cat, batch_size=32, epochs=5, validation_split=0.2)\n",
    "\n",
    "model.evaluate(x_test, y_test_cat)"
   ]
  },
  {
   "cell_type": "code",
   "execution_count": null,
   "id": "c43e8b34",
   "metadata": {},
   "outputs": [],
   "source": []
  }
 ],
 "metadata": {
  "kernelspec": {
   "display_name": "Python 3 (ipykernel)",
   "language": "python",
   "name": "python3"
  },
  "language_info": {
   "codemirror_mode": {
    "name": "ipython",
    "version": 3
   },
   "file_extension": ".py",
   "mimetype": "text/x-python",
   "name": "python",
   "nbconvert_exporter": "python",
   "pygments_lexer": "ipython3",
   "version": "3.9.12"
  }
 },
 "nbformat": 4,
 "nbformat_minor": 5
}
